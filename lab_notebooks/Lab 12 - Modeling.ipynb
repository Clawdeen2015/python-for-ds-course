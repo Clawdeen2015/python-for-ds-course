{
 "cells": [
  {
   "cell_type": "markdown",
   "metadata": {},
   "source": [
    "# Lab 12: Modeling\n",
    "\n",
    "This lab is meant to be short so you can experiment with multiple models, feature engineering methods, etc."
   ]
  },
  {
   "cell_type": "markdown",
   "metadata": {},
   "source": [
    "## #1\n",
    "\n",
    "Build a model using the flights data to predict departure delay. Remember to split your data, examine your data, select features, choose some models to try, train the models, and choose one (possibly based on scoring the models).\n",
    "- Be careful to avoid leakage! Make sure all of your features make sense as predictors.\n",
    "- Think: do you need a classification or regression model?\n",
    "    - Some regression models: Linear Regression, Lasso Regression, Decision Tree Regressor, Random Forest Regressor\n",
    "    - Some classification models: Gaussian Naive Bayes, Decision Tree Classifier, Random Forest Classifier\n",
    "- You will find that our features include some categorical variables. We did not spend much time on how to deal with categorical (non-numeric) variables in class. You may either A) drop these features or B) if you're feeling ambitious, look into a technique like one-hot encoding. Look at `sklearn.preprocessing.OneHotEncoder`, or the simpler `pd.get_dummies`.\n",
    "\n",
    "Note that you may not be able to build a very predictive model without substantial feature engineering.\n",
    "Consider why this might be so.\n",
    "Would supplemental data improve your model?"
   ]
  },
  {
   "cell_type": "markdown",
   "metadata": {},
   "source": [
    "## Challenge (*not required*)"
   ]
  },
  {
   "cell_type": "markdown",
   "metadata": {},
   "source": [
    "If you are familiar with grid search, try using scikit-learn's [GridSearchCV](https://scikit-learn.org/stable/modules/generated/sklearn.model_selection.GridSearchCV.html) to choose hyperparameters for your model -- or even to choose a type of model.\n",
    "An example is [here](https://scikit-learn.org/stable/modules/grid_search.html#exhaustive-grid-search).\n",
    "\n",
    "This will likely require a fair amount of experimentation to get right, but doing hyperparameter tuning automatically is a great feature of scikit-learn."
   ]
  }
 ],
 "metadata": {
  "kernelspec": {
   "display_name": "adhoc",
   "language": "python",
   "name": "adhoc"
  },
  "language_info": {
   "codemirror_mode": {
    "name": "ipython",
    "version": 3
   },
   "file_extension": ".py",
   "mimetype": "text/x-python",
   "name": "python",
   "nbconvert_exporter": "python",
   "pygments_lexer": "ipython3",
   "version": "3.7.4"
  }
 },
 "nbformat": 4,
 "nbformat_minor": 4
}
